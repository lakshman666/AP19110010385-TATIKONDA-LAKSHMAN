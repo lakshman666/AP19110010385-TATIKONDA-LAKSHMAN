{
 "cells": [
  {
   "cell_type": "code",
   "execution_count": null,
   "id": "36e2013e",
   "metadata": {},
   "outputs": [],
   "source": [
    "import emoji\n",
    "import camelcase\n",
    "import pyttsx3"
   ]
  },
  {
   "cell_type": "code",
   "execution_count": null,
   "id": "b86b06f4",
   "metadata": {},
   "outputs": [],
   "source": [
    "def task():\n",
    "    a= input(\"Enter your data: \")\n",
    "    if a == camelcase.CamelCase().hump(a):\n",
    "        print(emoji.emojize(':thumbs_up:'))\n",
    "    else:\n",
    "        spk = pyttsx3.init()\n",
    "        spk.say(\"Successfully converted your data into camelcase\")\n",
    "        spk.runAndWait()\n",
    "        print(\"Your data in camelcase: \",camelcase.CamelCase().hump(a))\n",
    "task()"
   ]
  }
 ],
 "metadata": {
  "kernelspec": {
   "display_name": "Python 3",
   "language": "python",
   "name": "python3"
  },
  "language_info": {
   "codemirror_mode": {
    "name": "ipython",
    "version": 3
   },
   "file_extension": ".py",
   "mimetype": "text/x-python",
   "name": "python",
   "nbconvert_exporter": "python",
   "pygments_lexer": "ipython3",
   "version": "3.8.8"
  }
 },
 "nbformat": 4,
 "nbformat_minor": 5
}
