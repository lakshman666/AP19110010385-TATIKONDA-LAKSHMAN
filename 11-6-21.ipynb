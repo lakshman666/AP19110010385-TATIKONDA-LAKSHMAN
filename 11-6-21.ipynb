{
 "cells": [
  {
   "cell_type": "code",
   "execution_count": 1,
   "id": "0e1c8f90",
   "metadata": {},
   "outputs": [
    {
     "name": "stdout",
     "output_type": "stream",
     "text": [
      "Enter the list: 1234567\n",
      "Enter the list: 12345\n",
      "True\n"
     ]
    }
   ],
   "source": [
    "\n",
    "a = set(input(\"Enter the list: \"))\n",
    "b = set(input(\"Enter the list: \"))\n",
    "if len(a.intersection(b)) > 0:\n",
    "    print(\"True\")\n",
    "else:\n",
    "    print(\"False\")"
   ]
  },
  {
   "cell_type": "code",
   "execution_count": 2,
   "id": "e0bd49e4",
   "metadata": {},
   "outputs": [
    {
     "name": "stdout",
     "output_type": "stream",
     "text": [
      "Enter the list: 12345\n",
      "Enter the list: 6789\n",
      "False\n"
     ]
    }
   ],
   "source": [
    "\n",
    "a = set(input(\"Enter the list: \"))\n",
    "b = set(input(\"Enter the list: \"))\n",
    "if len(a.intersection(b)) > 0:\n",
    "    print(\"True\")\n",
    "else:\n",
    "    print(\"False\")"
   ]
  }
 ],
 "metadata": {
  "kernelspec": {
   "display_name": "Python 3",
   "language": "python",
   "name": "python3"
  },
  "language_info": {
   "codemirror_mode": {
    "name": "ipython",
    "version": 3
   },
   "file_extension": ".py",
   "mimetype": "text/x-python",
   "name": "python",
   "nbconvert_exporter": "python",
   "pygments_lexer": "ipython3",
   "version": "3.8.8"
  }
 },
 "nbformat": 4,
 "nbformat_minor": 5
}
